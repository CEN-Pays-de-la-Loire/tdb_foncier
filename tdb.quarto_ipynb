{
  "cells": [
    {
      "cell_type": "markdown",
      "metadata": {},
      "source": [
        "---\n",
        "title: \"Tableau de bord foncier\"\n",
        "author: \"DL\"\n",
        "format: dashboard\n",
        "---"
      ],
      "id": "bd2638f3"
    },
    {
      "cell_type": "code",
      "metadata": {},
      "source": [
        "import plotly.express as px\n",
        "df = px.data.gapminder()"
      ],
      "id": "39426ab5",
      "execution_count": null,
      "outputs": []
    },
    {
      "cell_type": "markdown",
      "metadata": {},
      "source": [
        "## Row {height=60%}\n"
      ],
      "id": "0810083f"
    },
    {
      "cell_type": "code",
      "metadata": {
        "title": "GDP and Life Expectancy"
      },
      "source": [
        "px.scatter(  \n",
        "  df, x=\"gdpPercap\", y=\"lifeExp\", \n",
        "  animation_frame=\"year\", animation_group=\"country\", \n",
        "  size=\"pop\", color=\"continent\", hover_name=\"country\",\n",
        "  facet_col=\"continent\", log_x=True, size_max=45, \n",
        "  range_x=[100,100000], range_y=[25,90] \n",
        ")  "
      ],
      "id": "fce160b0",
      "execution_count": null,
      "outputs": []
    },
    {
      "cell_type": "markdown",
      "metadata": {},
      "source": [
        "## Row {height=40%}\n"
      ],
      "id": "7afa439d"
    },
    {
      "cell_type": "code",
      "metadata": {
        "title": "Population"
      },
      "source": [
        "px.area(\n",
        "  df, x=\"year\", y=\"pop\", \n",
        "  color=\"continent\", line_group=\"country\"\n",
        ")"
      ],
      "id": "4a141568",
      "execution_count": null,
      "outputs": []
    },
    {
      "cell_type": "code",
      "metadata": {
        "title": "Life Expectancy"
      },
      "source": [
        "px.line(\n",
        "  df, x=\"year\", y=\"lifeExp\", \n",
        "  color=\"continent\", line_group=\"country\"\n",
        ")"
      ],
      "id": "95f010cc",
      "execution_count": null,
      "outputs": []
    }
  ],
  "metadata": {
    "kernelspec": {
      "display_name": "Python 3",
      "language": "python",
      "name": "python3"
    }
  },
  "nbformat": 4,
  "nbformat_minor": 5
}